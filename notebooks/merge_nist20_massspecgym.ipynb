{
 "cells": [
  {
   "cell_type": "markdown",
   "metadata": {},
   "source": [
    "## Read NIST20 Rows"
   ]
  },
  {
   "cell_type": "code",
   "execution_count": null,
   "metadata": {},
   "outputs": [],
   "source": [
    "import pandas as pd\n",
    "\n",
    "# Replace with your actual file path\n",
    "file_path = '/teamspace/studios/this_studio/MassSpecGym/NIST20_MoNA_A_all_with_F_Murcko_split_MCE_test_minimum_cols.pkl'\n",
    "\n",
    "# Load the pickle file into a DataFrame\n",
    "df = pd.read_pickle(file_path)\n",
    "\n",
    "# Filter rows where the 'ID' column starts with \"NIST20\"\n",
    "nist20_df = df[df['ID'].str.startswith(\"NIST20\")]\n",
    "\n",
    "# Optional: check the filtered DataFrame\n",
    "print(nist20_df.info())"
   ]
  },
  {
   "cell_type": "code",
   "execution_count": null,
   "metadata": {},
   "outputs": [],
   "source": [
    "nist20_df.head(1)"
   ]
  },
  {
   "cell_type": "markdown",
   "metadata": {},
   "source": [
    "## Read MassSpecGym"
   ]
  },
  {
   "cell_type": "code",
   "execution_count": null,
   "metadata": {},
   "outputs": [],
   "source": [
    "from massspecgym.utils import load_massspecgym\n",
    "massspec_df = load_massspecgym()\n",
    "print(massspec_df.info())"
   ]
  },
  {
   "cell_type": "code",
   "execution_count": null,
   "metadata": {},
   "outputs": [],
   "source": [
    "massspec_df.head(1)"
   ]
  },
  {
   "cell_type": "markdown",
   "metadata": {},
   "source": [
    "## Merge both datasets"
   ]
  },
  {
   "cell_type": "code",
   "execution_count": null,
   "metadata": {},
   "outputs": [],
   "source": [
    "import pandas as pd\n",
    "\n",
    "# STEP 1: Prepare NIST20 DataFrame\n",
    "# -------------------------------\n",
    "nist20_df = nist20_df.copy()\n",
    "nist20_df['mzs'] = nist20_df['PARSED PEAKS'].apply(lambda x: x[0])\n",
    "nist20_df['intensities'] = nist20_df['PARSED PEAKS'].apply(lambda x: x[1])\n",
    "\n",
    "# Create a new DataFrame in the MassSpecGym format\n",
    "nist20_converted = pd.DataFrame({\n",
    "    'mzs': nist20_df['mzs'],\n",
    "    'intensities': nist20_df['intensities'],\n",
    "    'smiles': nist20_df['SMILES'],\n",
    "    'formula': nist20_df['FORMULA'],\n",
    "    'precursor_formula': nist20_df['FORMULA'],\n",
    "    'precursor_mz': nist20_df['PRECURSOR M/Z'],\n",
    "    'parent_mass': nist20_df['PRECURSOR M/Z'],  # you can replace this with monoisotopic mass if needed\n",
    "    'fold': nist20_df['fold'],\n",
    "    'inchikey': None,\n",
    "    'adduct': None,\n",
    "    'instrument_type': None,\n",
    "    'collision_energy': None,\n",
    "    'simulation_challenge': False\n",
    "})\n",
    "\n",
    "# STEP 2: Standardize Column Order (to match MassSpecGym)\n",
    "# -------------------------------------------------------\n",
    "expected_columns = [\n",
    "    'mzs', 'intensities', 'smiles', 'inchikey', 'formula', 'precursor_formula',\n",
    "    'parent_mass', 'precursor_mz', 'adduct', 'instrument_type',\n",
    "    'collision_energy', 'fold', 'simulation_challenge'\n",
    "]\n",
    "\n",
    "# Reorder both DataFrames\n",
    "nist20_converted = nist20_converted[expected_columns]\n",
    "massspec_df = massspec_df[expected_columns]\n",
    "\n",
    "# STEP 3: Concatenate the two DataFrames\n",
    "# -------------------------------------\n",
    "merged_df = pd.concat([massspec_df, nist20_converted], ignore_index=True)\n",
    "\n",
    "# Optional: Shuffle if needed before training\n",
    "merged_df = merged_df.sample(frac=1.0, random_state=42).reset_index(drop=True)\n",
    "\n",
    "# Save or pass `merged_df` to your PyTorch Lightning DataModule\n",
    "print(merged_df.info())\n"
   ]
  },
  {
   "cell_type": "code",
   "execution_count": null,
   "metadata": {},
   "outputs": [],
   "source": [
    "merged_df.tail(2)"
   ]
  },
  {
   "cell_type": "code",
   "execution_count": null,
   "metadata": {},
   "outputs": [],
   "source": [
    "import pandas as pd\n",
    "\n",
    "#merged_df.to_csv('/teamspace/studios/this_studio/nist20_massspecgym_dataset.tsv', sep='\\t', index=False)\n",
    "file_path = '/teamspace/studios/this_studio/nist20_massspecgym_dataset.tsv'\n",
    "# Load the  file into a DataFrame\n",
    "result_df = pd.read_csv(file_path, sep='\\t')\n",
    "\n",
    "# Optional: check the filtered DataFrame\n",
    "print(result_df.info())"
   ]
  },
  {
   "cell_type": "code",
   "execution_count": null,
   "metadata": {},
   "outputs": [],
   "source": [
    "result_df.tail(2)"
   ]
  }
 ],
 "metadata": {
  "language_info": {
   "name": "python"
  }
 },
 "nbformat": 4,
 "nbformat_minor": 2
}
