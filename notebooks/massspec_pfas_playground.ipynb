{
 "cells": [
  {
   "cell_type": "markdown",
   "metadata": {},
   "source": [
    "## Verifying Exception Cases of OCED PFAS in Merged Dataset"
   ]
  },
  {
   "cell_type": "code",
   "execution_count": null,
   "metadata": {},
   "outputs": [],
   "source": [
    "import pandas as pd\n",
    "\n",
    "with open(\"/teamspace/studios/this_studio/files/merged_massspec_nist20_mona_fold.tsv\", \"r\") as f:\n",
    "    df_merged = pd.read_csv(f, sep='\\t')\n",
    "\n",
    "df_merged.head(3)"
   ]
  },
  {
   "cell_type": "code",
   "execution_count": 4,
   "metadata": {},
   "outputs": [],
   "source": [
    "from rdkit import Chem\n",
    "from rdkit.Chem import rdchem\n",
    "\n",
    "# Definition of PFAS  based on OECD: https://pubs.acs.org/doi/10.1021/acs.est.1c06896\n",
    "def is_pfas(smiles: str) -> int:\n",
    "    try:\n",
    "        mol = Chem.MolFromSmiles(smiles)\n",
    "        if mol is None:\n",
    "            return 0\n",
    "\n",
    "        for atom in mol.GetAtoms():\n",
    "            if atom.GetAtomicNum() != 6:  # carbon only\n",
    "                continue\n",
    "\n",
    "            # neighbors\n",
    "            neigh = atom.GetNeighbors()\n",
    "            sym = [n.GetSymbol() for n in neigh]\n",
    "\n",
    "            num_F = sum(1 for s in sym if s == \"F\")\n",
    "            has_X  = any(s in (\"Cl\", \"Br\", \"I\") for s in sym)\n",
    "            has_H  = atom.GetTotalNumHs() > 0  # implicit + explicit Hs\n",
    "\n",
    "            # require sp3 and all single bonds (rules out alkenes like TFE)\n",
    "            is_sp3 = atom.GetHybridization() == rdchem.HybridizationType.SP3\n",
    "            all_single = all(\n",
    "                mol.GetBondBetweenAtoms(atom.GetIdx(), n.GetIdx()).GetBondType() == rdchem.BondType.SINGLE\n",
    "                for n in neigh\n",
    "            )\n",
    "\n",
    "            # CF3: at least 3 F neighbors; CF2: at least 2 F neighbors\n",
    "            if (num_F >= 3 or num_F >= 2) and is_sp3 and all_single and not has_H and not has_X:\n",
    "                # For CF2, make sure there's at least one non-F neighbor so it's truly \"-CF2-\"\n",
    "                if num_F >= 3:\n",
    "                    return 1\n",
    "                else:  # CF2\n",
    "                    nonF_neighbors = sum(1 for s in sym if s != \"F\")\n",
    "                    if nonF_neighbors >= 1:  # \"-CF2-\" has something other than F attached\n",
    "                        return 1\n",
    "\n",
    "        return 0\n",
    "    except Exception:\n",
    "        return 0\n"
   ]
  },
  {
   "cell_type": "code",
   "execution_count": null,
   "metadata": {},
   "outputs": [],
   "source": [
    "df_merged[\"is_pfas\"] = df_merged[\"smiles\"].apply(is_pfas)\n",
    "pfas_df = df_merged[df_merged[\"is_pfas\"] == 1]\n",
    "df_train = pfas_df[pfas_df[\"fold\"] == \"train\"]\n",
    "print(\"train PFAS spectra \" + str(len(df_train)))\n",
    "df_val = pfas_df[pfas_df[\"fold\"] == \"val\"]\n",
    "print(\"val PFAS spectra \" + str(len(df_val)))"
   ]
  },
  {
   "cell_type": "code",
   "execution_count": null,
   "metadata": {},
   "outputs": [],
   "source": [
    "print(\"train PFAS spectra \" + str(df_train[\"smiles\"].nunique()))\n",
    "print(\"val PFAS spectra \" + str(df_val[\"smiles\"].nunique()))"
   ]
  },
  {
   "cell_type": "code",
   "execution_count": null,
   "metadata": {},
   "outputs": [],
   "source": [
    "#pfas #1\n",
    "import pandas as pd\n",
    "from rdkit import Chem\n",
    "from rdkit.Chem import Draw\n",
    "\n",
    "# Select 10 PFAS molecules at random\n",
    "pfas_sample = df_merged.loc[df_merged[\"is_pfas\"] == 1, \"smiles\"].sample(n=50, random_state=42)\n",
    "\n",
    "# Build dataframe with SMILES + RDKit Mol\n",
    "pfas_selected = []\n",
    "for smi in pfas_sample:\n",
    "    mol = Chem.MolFromSmiles(smi)\n",
    "    if mol:\n",
    "        pfas_selected.append({\"smiles\": smi, \"mol\": mol})\n",
    "\n",
    "pfas_df = pd.DataFrame(pfas_selected)\n",
    "\n",
    "# Function to draw molecules in batches of 5\n",
    "def draw_batch(df, start_idx, batch_size=5):\n",
    "    subset = df.iloc[start_idx:start_idx+batch_size]\n",
    "    mols = subset[\"mol\"].tolist()\n",
    "    legends = subset[\"smiles\"].tolist()\n",
    "    return Draw.MolsToGridImage(mols, molsPerRow=batch_size, subImgSize=(300,300), legends=legends)\n",
    "\n",
    "# Example usage:\n",
    "img1 = draw_batch(pfas_df, 0)   # first 5\n",
    "img2 = draw_batch(pfas_df, 5)   # next 5\n",
    "img3 = draw_batch(pfas_df, 10)\n",
    "img4 = draw_batch(pfas_df, 49)\n",
    "img1\n"
   ]
  },
  {
   "cell_type": "code",
   "execution_count": null,
   "metadata": {},
   "outputs": [],
   "source": [
    "#non-pfas #1\n",
    "import pandas as pd\n",
    "from rdkit import Chem\n",
    "from rdkit.Chem import Draw\n",
    "\n",
    "# Filter non-PFAS molecules, remove duplicates\n",
    "non_pfas = df_merged.loc[df_merged[\"is_pfas\"] == 0, \"smiles\"].drop_duplicates()\n",
    "\n",
    "selected = []\n",
    "\n",
    "for smi in non_pfas:\n",
    "    mol = Chem.MolFromSmiles(smi)\n",
    "    if mol:\n",
    "        # Count fluorine atoms\n",
    "        fluorine_count = sum(1 for atom in mol.GetAtoms() if atom.GetSymbol() == \"F\")\n",
    "        if fluorine_count > 1:\n",
    "            selected.append({\"smiles\": smi, \"mol\": mol, \"fluorine_count\": fluorine_count})\n",
    "    if len(selected) == 30:\n",
    "        break\n",
    "\n",
    "# Put into a dataframe\n",
    "selected_df = pd.DataFrame(selected)\n",
    "\n",
    "# Function to draw 5 molecules at a time\n",
    "def draw_batch(df, start_idx, batch_size=5):\n",
    "    subset = df.iloc[start_idx:start_idx+batch_size]\n",
    "    mols = subset[\"mol\"].tolist()\n",
    "    legends = [f\"{row.smiles} | F count: {row.fluorine_count}\" for row in subset.itertuples()]\n",
    "    return Draw.MolsToGridImage(mols, molsPerRow=batch_size, subImgSize=(300,300), legends=legends)\n",
    "\n",
    "# Example: draw first batch (5 molecules)\n",
    "img1 = draw_batch(selected_df, 0)\n",
    "img2 = draw_batch(selected_df, 5)\n",
    "img3 = draw_batch(selected_df, 10)\n",
    "img4 = draw_batch(selected_df, 15)\n",
    "img1"
   ]
  },
  {
   "cell_type": "markdown",
   "metadata": {},
   "source": [
    "## Non-Target PFAS Detection Pipeline"
   ]
  },
  {
   "cell_type": "code",
   "execution_count": null,
   "metadata": {},
   "outputs": [],
   "source": [
    "import pandas as pd\n",
    "from rdkit import Chem\n",
    "\n",
    "# Example: Load your dataframe\n",
    "pfas_labeled_df = pd.read_csv('/teamspace/studios/this_studio/files/merged_massspec_nist20_with_pfas_fold.tsv', sep='\\t')\n",
    "\n",
    "print(pfas_labeled_df.iloc[0])"
   ]
  }
 ],
 "metadata": {
  "language_info": {
   "name": "python"
  }
 },
 "nbformat": 4,
 "nbformat_minor": 2
}
